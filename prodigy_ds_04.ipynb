{
 "cells": [
  {
   "cell_type": "code",
   "execution_count": 2,
   "id": "fd92ea95",
   "metadata": {},
   "outputs": [],
   "source": [
    "#dataframing\n",
    "import pandas as pd\n",
    "\n",
    "data = {\n",
    "    'text': [\n",
    "        \"I love Brand A, their products are amazing!\",\n",
    "        \"Brand B is the worst, I regret buying their product.\",\n",
    "        \"Just received my order from Brand A, super happy!\",\n",
    "        \"Can't believe how good Brand B's customer service is!\",\n",
    "        \"Huge fan of Brand A, always satisfied with their quality.\",\n",
    "        \"I'm disappointed with Brand B, won't buy from them again.\",\n",
    "        \"Excited to try out Brand A's new collection!\",\n",
    "        \"Brand B's packaging is so eco-friendly, impressed!\",\n",
    "        \"Had a bad experience with Brand A, their delivery was delayed.\",\n",
    "        \"Brand B never disappoints, great value for money.\"\n",
    "    ],\n",
    "    'sentiment': [\n",
    "        'positive',\n",
    "        'negative',\n",
    "        'positive',\n",
    "        'positive',\n",
    "        'positive',\n",
    "        'negative',\n",
    "        'positive',\n",
    "        'positive',\n",
    "        'negative',\n",
    "        'positive'\n",
    "    ]\n",
    "}\n",
    "\n",
    "df = pd.DataFrame(data)\n",
    "df.to_csv('social_media_sentiment.csv', index=False)\n"
   ]
  },
  {
   "cell_type": "code",
   "execution_count": 5,
   "id": "202a499d",
   "metadata": {},
   "outputs": [
    {
     "name": "stdout",
     "output_type": "stream",
     "text": [
      "Collecting textblob\n",
      "  Downloading textblob-0.18.0.post0-py3-none-any.whl (626 kB)\n",
      "                                              0.0/626.3 kB ? eta -:--:--\n",
      "     ---                                     51.2/626.3 kB 2.7 MB/s eta 0:00:01\n",
      "     ---                                     51.2/626.3 kB 2.7 MB/s eta 0:00:01\n",
      "     ---                                     51.2/626.3 kB 2.7 MB/s eta 0:00:01\n",
      "     ---                                     51.2/626.3 kB 2.7 MB/s eta 0:00:01\n",
      "     -------                              133.1/626.3 kB 605.3 kB/s eta 0:00:01\n",
      "     -------                              133.1/626.3 kB 605.3 kB/s eta 0:00:01\n",
      "     ---------------                      266.2/626.3 kB 820.5 kB/s eta 0:00:01\n",
      "     ---------------                      266.2/626.3 kB 820.5 kB/s eta 0:00:01\n",
      "     ---------------------------            450.6/626.3 kB 1.0 MB/s eta 0:00:01\n",
      "     -------------------------------------- 626.3/626.3 kB 1.3 MB/s eta 0:00:00\n",
      "Collecting nltk>=3.8 (from textblob)\n",
      "  Downloading nltk-3.8.1-py3-none-any.whl (1.5 MB)\n",
      "                                              0.0/1.5 MB ? eta -:--:--\n",
      "     -------------                            0.5/1.5 MB 10.5 MB/s eta 0:00:01\n",
      "     --------------                           0.5/1.5 MB 6.6 MB/s eta 0:00:01\n",
      "     ----------------                         0.6/1.5 MB 4.4 MB/s eta 0:00:01\n",
      "     ----------------                         0.6/1.5 MB 4.4 MB/s eta 0:00:01\n",
      "     ------------------                       0.7/1.5 MB 2.8 MB/s eta 0:00:01\n",
      "     ---------------------                    0.8/1.5 MB 2.9 MB/s eta 0:00:01\n",
      "     -------------------------                1.0/1.5 MB 3.0 MB/s eta 0:00:01\n",
      "     -------------------------                1.0/1.5 MB 3.0 MB/s eta 0:00:01\n",
      "     -------------------------                1.0/1.5 MB 3.0 MB/s eta 0:00:01\n",
      "     -------------------------------          1.2/1.5 MB 2.4 MB/s eta 0:00:01\n",
      "     ---------------------------------------  1.5/1.5 MB 2.8 MB/s eta 0:00:01\n",
      "     ---------------------------------------- 1.5/1.5 MB 2.7 MB/s eta 0:00:00\n",
      "Requirement already satisfied: click in c:\\users\\abith\\anaconda3\\lib\\site-packages (from nltk>=3.8->textblob) (8.0.4)\n",
      "Requirement already satisfied: joblib in c:\\users\\abith\\anaconda3\\lib\\site-packages (from nltk>=3.8->textblob) (1.2.0)\n",
      "Requirement already satisfied: regex>=2021.8.3 in c:\\users\\abith\\anaconda3\\lib\\site-packages (from nltk>=3.8->textblob) (2022.7.9)\n",
      "Requirement already satisfied: tqdm in c:\\users\\abith\\anaconda3\\lib\\site-packages (from nltk>=3.8->textblob) (4.65.0)\n",
      "Requirement already satisfied: colorama in c:\\users\\abith\\anaconda3\\lib\\site-packages (from click->nltk>=3.8->textblob) (0.4.6)\n",
      "Installing collected packages: nltk, textblob\n",
      "  Attempting uninstall: nltk\n",
      "    Found existing installation: nltk 3.7\n",
      "    Uninstalling nltk-3.7:\n",
      "      Successfully uninstalled nltk-3.7\n",
      "Successfully installed nltk-3.8.1 textblob-0.18.0.post0\n",
      "Note: you may need to restart the kernel to use updated packages.\n"
     ]
    }
   ],
   "source": [
    "pip install textblob"
   ]
  },
  {
   "cell_type": "code",
   "execution_count": 6,
   "id": "6389d099",
   "metadata": {},
   "outputs": [
    {
     "name": "stdout",
     "output_type": "stream",
     "text": [
      "                                                text sentiment  \\\n",
      "0        I love Brand A, their products are amazing!  positive   \n",
      "1  Brand B is the worst, I regret buying their pr...  negative   \n",
      "2  Just received my order from Brand A, super happy!  positive   \n",
      "3  Can't believe how good Brand B's customer serv...  positive   \n",
      "4  Huge fan of Brand A, always satisfied with the...  positive   \n",
      "5  I'm disappointed with Brand B, won't buy from ...  negative   \n",
      "6       Excited to try out Brand A's new collection!  positive   \n",
      "7  Brand B's packaging is so eco-friendly, impres...  positive   \n",
      "8  Had a bad experience with Brand A, their deliv...  negative   \n",
      "9  Brand B never disappoints, great value for money.  positive   \n",
      "\n",
      "  predicted_sentiment  \n",
      "0            positive  \n",
      "1            negative  \n",
      "2            positive  \n",
      "3            positive  \n",
      "4            positive  \n",
      "5            negative  \n",
      "6            positive  \n",
      "7            positive  \n",
      "8            negative  \n",
      "9            positive  \n"
     ]
    }
   ],
   "source": [
    "from textblob import TextBlob\n",
    "import pandas as pd\n",
    "\n",
    "# Load the dataset\n",
    "df = pd.read_csv('social_media_sentiment.csv')\n",
    "\n",
    "# Perform sentiment analysis\n",
    "sentiments = []\n",
    "for text in df['text']:\n",
    "    blob = TextBlob(text)\n",
    "    polarity = blob.sentiment.polarity\n",
    "    if polarity > 0:\n",
    "        sentiments.append('positive')\n",
    "    elif polarity < 0:\n",
    "        sentiments.append('negative')\n",
    "    else:\n",
    "        sentiments.append('neutral')\n",
    "\n",
    "# Add the predicted sentiment to the DataFrame\n",
    "df['predicted_sentiment'] = sentiments\n",
    "\n",
    "# Display the DataFrame with predicted sentiments\n",
    "print(df)\n"
   ]
  },
  {
   "cell_type": "code",
   "execution_count": 7,
   "id": "0f2e792a",
   "metadata": {},
   "outputs": [
    {
     "data": {
      "image/png": "[encoded data removed]",
      "text/plain": [
       "<Figure size 800x600 with 1 Axes>"
      ]
     },
     "metadata": {},
     "output_type": "display_data"
    }
   ],
   "source": [
    "import matplotlib.pyplot as plt\n",
    "\n",
    "# Count the occurrences of each sentiment\n",
    "sentiment_counts = df['predicted_sentiment'].value_counts()\n",
    "\n",
    "# Plotting the sentiment distribution\n",
    "plt.figure(figsize=(8, 6))\n",
    "sentiment_counts.plot(kind='bar', color=['green', 'red', 'blue'])\n",
    "plt.title('Sentiment Distribution')\n",
    "plt.xlabel('Sentiment')\n",
    "plt.ylabel('Count')\n",
    "plt.xticks(rotation=0)\n",
    "plt.show()\n"
   ]
  },
  {
   "cell_type": "code",
   "execution_count": null,
   "id": "bae7bbcb",
   "metadata": {},
   "outputs": [],
   "source": []
  }
 ],
 "metadata": {
  "kernelspec": {
   "display_name": "Python 3 (ipykernel)",
   "language": "python",
   "name": "python3"
  },
  "language_info": {
   "codemirror_mode": {
    "name": "ipython",
    "version": 3
   },
   "file_extension": ".py",
   "mimetype": "text/x-python",
   "name": "python",
   "nbconvert_exporter": "python",
   "pygments_lexer": "ipython3",
   "version": "3.11.3"
  }
 },
 "nbformat": 4,
 "nbformat_minor": 5
}
